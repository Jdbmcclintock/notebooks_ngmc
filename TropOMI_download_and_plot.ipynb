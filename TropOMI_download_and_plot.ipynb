{
 "cells": [
  {
   "cell_type": "markdown",
   "metadata": {},
   "source": [
    "This note book downloads and then plots SO2 data from Sentinel-5p TropOMI.\n",
    "\n",
    "The script downloads the near realtime product which is typically available 2-4 hours after acquisition.\n",
    "\n",
    "Acquisition usually occurs around 01:00 to 03:00 UTC.  The script should be run at 4pm local time so ensure the data from the previous UTC day is available.\n",
    "\n",
    "Sometimes there is no realtime data due to operational issues beyond our control.\n",
    "\n",
    "The time interval can be set in cell 4.\n",
    "\n",
    "Refer to https://sentinelsat.readthedocs.io/en/stable/api.html#quickstart for more information.\n",
    "\n",
    "Data can be manually/gui downloaded from\n",
    "https://scihub.copernicus.eu/\n",
    "\n",
    "Also see for detailed product information\n",
    "https://sentinels.copernicus.eu/documents/247904/2474726/Sentinel-5P-Level-2-Product-User-Manual-Sulphur-Dioxide"
   ]
  },
  {
   "cell_type": "markdown",
   "metadata": {},
   "source": [
    "The next cell imports the required modules and sets the directory to download the data to"
   ]
  },
  {
   "cell_type": "code",
   "execution_count": null,
   "metadata": {},
   "outputs": [],
   "source": [
    "\"\"\"\n",
    "Created on Thu Mar 14 09:12:45 2019\n",
    "\n",
    "@author: craigm\n",
    "\n",
    "https://scihub.copernicus.eu/\n",
    "\n",
    "https://pypi.org/project/sentinelsat/\n",
    "\"\"\"\n",
    "from sentinelsat import SentinelAPI, read_geojson, geojson_to_wkt\n",
    "import json\n",
    "import os\n",
    "import zipfile\n",
    "import xarray as xr\n",
    "import cartopy.crs as ccrs\n",
    "import cartopy.feature as cfeature\n",
    "import matplotlib.pyplot as plt\n",
    "import matplotlib.patches as patches\n",
    "from matplotlib import cm\n",
    "from matplotlib.colors import LinearSegmentedColormap\n",
    "import colorcet as cc\n",
    "from colorspace import sequential_hcl\n",
    "from colorspace.colorlib import HCL\n",
    "import numpy as np\n",
    "\n"
   ]
  },
  {
   "cell_type": "code",
   "execution_count": null,
   "metadata": {},
   "outputs": [],
   "source": [
    "data_dir = '/opt/data/TropOMI/NZ/'\n",
    "\n",
    "os.chdir(data_dir)"
   ]
  },
  {
   "cell_type": "markdown",
   "metadata": {},
   "source": [
    "connect to the API"
   ]
  },
  {
   "cell_type": "code",
   "execution_count": null,
   "metadata": {},
   "outputs": [],
   "source": [
    "api = SentinelAPI('s5pguest', 's5pguest', api_url='https://s5phub.copernicus.eu/dhus')"
   ]
  },
  {
   "cell_type": "markdown",
   "metadata": {},
   "source": [
    "search by polygon, time, and Hub query keywords"
   ]
  },
  {
   "cell_type": "markdown",
   "metadata": {},
   "source": [
    "date interval can be \n",
    "\n",
    "date : tuple of (str or datetime) or str, optional\n",
    "\n",
    "A time interval filter based on the Sensing Start Time of the products. Expects a tuple of (start, end), e.g. (\"NOW-1DAY\", \"NOW\"). The timestamps can be either a Python datetime or a string in one of the following formats:\n",
    "\n",
    "yyyyMMdd\n",
    "\n",
    "yyyy-MM-ddThh:mm:ss.SSSZ (ISO-8601)\n",
    "\n",
    "yyyy-MM-ddThh:mm:ssZ\n",
    "\n",
    "NOW\n",
    "\n",
    "NOW-<n>DAY(S) (or HOUR(S), MONTH(S), etc.)\n",
    "    \n",
    "NOW+<n>DAY(S)\n",
    "    \n",
    "yyyy-MM-ddThh:mm:ssZ-<n>DAY(S)\n",
    "    \n",
    "NOW/DAY (or HOUR, MONTH etc.) - rounds the value to the given unit\n",
    "\n",
    "Alternatively, an already fully formatted string such as \"[NOW-1DAY TO NOW]\" can be used as well.\n"
   ]
  },
  {
   "cell_type": "code",
   "execution_count": null,
   "metadata": {},
   "outputs": [],
   "source": [
    "date_interval = \"[NOW-1DAYS TO NOW]\""
   ]
  },
  {
   "cell_type": "code",
   "execution_count": null,
   "metadata": {},
   "outputs": [],
   "source": [
    "footprint = geojson_to_wkt(read_geojson('/opt/data/TropOMI/NorthIsland.geojson'))\n",
    "products = api.query(area = footprint, area_relation='Contains', date = date_interval, platformname='Sentinel-5', producttype='L2__SO2___', \n",
    "                     processinglevel='L2')\n"
   ]
  },
  {
   "cell_type": "markdown",
   "metadata": {},
   "source": [
    "download all results from the search"
   ]
  },
  {
   "cell_type": "code",
   "execution_count": null,
   "metadata": {},
   "outputs": [],
   "source": [
    "download = api.download_all(products, directory_path=data_dir)\n",
    "download"
   ]
  },
  {
   "cell_type": "markdown",
   "metadata": {},
   "source": [
    "rename the file to *.nc file (ZIP is the wrong extension)"
   ]
  },
  {
   "cell_type": "code",
   "execution_count": null,
   "metadata": {},
   "outputs": [],
   "source": [
    "for key, value in download[0].items():\n",
    "    file = download[0][key]['path']\n",
    "print (file)\n",
    "nc_file = file.split('.')[0] + '.nc'\n",
    "newfile = os.rename(file, nc_file)\n",
    "print (nc_file)"
   ]
  },
  {
   "cell_type": "markdown",
   "metadata": {},
   "source": [
    "Bounding box parameters for the North Island. qa_value is the pixel quality value, data with values below this are removed. ESA recommends qa_value >0.5 but this sometimes misses low emisions from White Island, so 0.35 seems a good limit for NZ."
   ]
  },
  {
   "cell_type": "code",
   "execution_count": null,
   "metadata": {},
   "outputs": [],
   "source": [
    "nzlatmin = -40\n",
    "nzlatmax = -35\n",
    "nzlonmin = 173\n",
    "nzlonmax = 179\n",
    "qa_value = 0.5"
   ]
  },
  {
   "cell_type": "markdown",
   "metadata": {},
   "source": [
    "Load the data and subset to North Island"
   ]
  },
  {
   "cell_type": "code",
   "execution_count": null,
   "metadata": {},
   "outputs": [],
   "source": [
    "tropomi = xr.open_dataset(nc_file, group='PRODUCT')\n",
    "\n",
    "#subset to North Island, NZ\n",
    "ds = tropomi.where((tropomi.latitude > nzlatmin) & (tropomi.latitude < nzlatmax) &\n",
    "                   (tropomi.longitude > nzlonmin) & (tropomi.longitude < nzlonmax) & (tropomi.qa_value > qa_value))\n",
    "\n",
    "lons = ds.longitude[:][0,:,:]\n",
    "lats = ds.latitude[:][0,:,:]\n",
    "so2 = ds.sulfurdioxide_total_vertical_column[0,:,:]\n",
    "\n",
    "to_DU = 2241.15\n",
    "so2_du = so2 * to_DU"
   ]
  },
  {
   "cell_type": "markdown",
   "metadata": {},
   "source": [
    "Set up the colormap"
   ]
  },
  {
   "cell_type": "code",
   "execution_count": null,
   "metadata": {},
   "outputs": [],
   "source": [
    "# Alterantive color map options\n",
    "#cmap = cc.m_fire_r\n",
    "#cmap = cm.gist_ncar_r\n",
    "#\n",
    "#palette = sequential_hcl(h = [-220,20], c = [0, 90, 0], l = [95, 30], power = [1.5,1.5])\n",
    "#cmap = palette.cmap()\n",
    "\n",
    "\n",
    "lev     = [0., 0.01, 0.1, 0.25, 0.50, 0.75, 1.0, 1.25, 1.50, 1.75, 2.0,\n",
    "           2.25, 2.5, 2.75, 3, 3.25, 3.5, 3.75, 4, 4.25, 4.5, 4.75, 5]\n",
    "H = np.repeat(-220., len(lev))\n",
    "H[np.where(np.asarray(lev) >= 1.5)] = -100 # Blueish above 2.0 inches\n",
    "H[np.where(np.asarray(lev) >= 3.)] = 20   # Reddish above 5.0 inches\n",
    "C = np.power(np.linspace(0, 1, len(lev), dtype = float), 1.5) * 90\n",
    "L = 95 - np.power(np.linspace(0, 1, len(lev), dtype = float), 1.5) * 65\n",
    "# Create a HCL color object\n",
    "cols = HCL(H, C, L)\n",
    "# Load colors\n",
    "palette  = cols.colors()\n",
    "cmap = LinearSegmentedColormap.from_list('tropomi', palette)"
   ]
  },
  {
   "cell_type": "markdown",
   "metadata": {},
   "source": [
    "Calculate mass of SO2 in box around White Island\n",
    "For the unit: I looked in the NASA website: “The gas is measured in Dobson Units (DU), the number of molecules in a square centimeter of the atmosphere. If you were to compress all of the sulfur dioxide in a column of the atmosphere into a flat layer at standard temperature and pressure (0 °C and 1013.25 hPa), one Dobson Unit would be 0.01 millimeters thick and would contain 0.0285 grams of SO2 per square meter.”"
   ]
  },
  {
   "cell_type": "code",
   "execution_count": null,
   "metadata": {},
   "outputs": [],
   "source": [
    "pixel_area = 3500*7000 #sqm of the tropomi pixel\n",
    "latmin, latmax, lonmin, lonmax = -38,-37, 176.5, 178\n",
    "\n",
    "white_AOI = tropomi.where((tropomi.latitude > latmin) & (tropomi.latitude < latmax) &\n",
    "                   (tropomi.longitude > lonmin) & (tropomi.longitude < lonmax) & (tropomi.qa_value > qa_value))\n",
    "\n",
    "white_so2 = white_AOI.sulfurdioxide_total_vertical_column[0,:,:]\n",
    "white_so2_du = white_so2 * to_DU\n",
    "\n",
    "pixel_mass = 0.0285 * white_so2_du # mass/m2 - see note above \n",
    "\n",
    "pixel_mass_tot = pixel_mass * pixel_area\n",
    "\n",
    "white_total_SO2_mass = pixel_mass_tot.sum() #g SO2 \n",
    "\n",
    "print('White total SO2 = %.1f tonnes' %(white_total_SO2_mass/1000/1000))"
   ]
  },
  {
   "cell_type": "markdown",
   "metadata": {},
   "source": [
    "Next part does the plotting."
   ]
  },
  {
   "cell_type": "code",
   "execution_count": null,
   "metadata": {},
   "outputs": [],
   "source": [
    "plt.close('all')\n",
    "fig = plt.figure(figsize=(8,6))\n",
    "ax = plt.axes(projection=ccrs.PlateCarree(180))\n",
    "# draw coastlines\n",
    "ax.add_feature(cfeature.GSHHSFeature('full', [1,2,3,4]))\n",
    "\n",
    "ax.set_xlim(-7, -1)\n",
    "ax.set_ylim(-40,-35)\n",
    "  \n",
    "# draw meridians and parallels\n",
    "ax.gridlines(crs=ccrs.PlateCarree(), linewidth=1, color='black', draw_labels=True,\n",
    "             xlocs=np.arange(173, 180, 1), ylocs=np.arange(-40,-34,1), alpha=0.5, linestyle='--')\n",
    "ax.text(-0.1, 0.55, 'latitude', va='bottom', ha='center',\n",
    "        rotation='vertical', rotation_mode='anchor',\n",
    "        transform=ax.transAxes)\n",
    "ax.text(0.5, -0.1, 'longitude', va='bottom', ha='center',\n",
    "        rotation='horizontal', rotation_mode='anchor',\n",
    "        transform=ax.transAxes)\n",
    "\n",
    "\n",
    "# Draw the plot\n",
    "cs = plt.pcolor(lons, lats, so2_du, cmap=cmap, vmin=(0), vmax=4, transform=ccrs.PlateCarree())\n",
    "plt.colorbar(cs, ax=ax, label='SO$_{2}$ total vertical column [DU]', orientation='horizontal',fraction=0.045)\n",
    "# Add Ruapehu and White Island Volcano locations\n",
    "plt.scatter(-2.8193, -37.519529, marker='o', facecolors='None', s=75, color='g', zorder=1000)\n",
    "plt.scatter(-4.4356, -39.280836, marker='o', facecolors='None', s=75, color='g', zorder=1000)\n",
    "rect = patches.Rectangle((lonmin-180, latmin), (lonmax-180)-(lonmin-180), latmax-latmin, linewidth=2, edgecolor='b', facecolor='none')\n",
    "ax.add_patch(rect)\n",
    "\n",
    "ax.set_title(str(nc_file.split('/')[5].split('_')[8]) + ' UTC : White Island mass SO${_2}$ = %.1f tonnes: ' %(white_total_SO2_mass/1000/1000) + 'pixel quality > %.2f' %qa_value, pad = 20,\n",
    "            fontsize=10)\n",
    "\n",
    "#plt.savefig(data_dir + str(ds.time.values[0])[:10] + '_NZ_tropomi_qa' +str(qa_value) + '.png')\n",
    "plt.savefig('/opt/html/NorthIsland_TropOMI.png', dpi=300)"
   ]
  },
  {
   "cell_type": "code",
   "execution_count": null,
   "metadata": {},
   "outputs": [],
   "source": []
  }
 ],
 "metadata": {
  "kernelspec": {
   "display_name": "ngmc",
   "language": "python",
   "name": "ngmc"
  },
  "language_info": {
   "codemirror_mode": {
    "name": "ipython",
    "version": 3
   },
   "file_extension": ".py",
   "mimetype": "text/x-python",
   "name": "python",
   "nbconvert_exporter": "python",
   "pygments_lexer": "ipython3",
   "version": "3.6.7"
  }
 },
 "nbformat": 4,
 "nbformat_minor": 4
}
