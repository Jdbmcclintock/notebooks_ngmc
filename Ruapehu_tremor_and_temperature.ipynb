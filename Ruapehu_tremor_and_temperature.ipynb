{
 "cells": [
  {
   "cell_type": "code",
   "execution_count": null,
   "metadata": {},
   "outputs": [],
   "source": [
    "%matplotlib inline\n",
    "import numpy as np\n",
    "import pandas as pd\n",
    "import matplotlib.pyplot as plt\n",
    "from scipy.stats import norm\n",
    "import datetime as dt\n",
    "timestamp = str(dt.datetime.now().strftime('%Y-%m-%d'))\n"
   ]
  },
  {
   "cell_type": "code",
   "execution_count": null,
   "metadata": {},
   "outputs": [],
   "source": [
    "df_trem = pd.read_csv('/opt/rsam/my_rsam/MAVZ.asc', parse_dates=True, index_col=0, delim_whitespace=True, header=None, names=['tremor'])"
   ]
  },
  {
   "cell_type": "code",
   "execution_count": null,
   "metadata": {},
   "outputs": [],
   "source": [
    "#drop Kaikoura EQ to remove large spike 2016_11_14\n",
    "\n",
    "#2016-11-13T00:00:00.992598  +1.8256780097e+03\n",
    "#2016-11-14T00:00:00.992769  +4.6793780794e+02\n",
    "#2016-11-15T00:00:00.992940  +2.2306629279e+02\n",
    "df_trem.drop(pd.to_datetime('2016-11-13 00:00:00.992598'), inplace=True)\n",
    "df_trem.drop(pd.to_datetime('2016-11-14 00:00:00.992769'), inplace=True)\n",
    "df_trem.drop(pd.to_datetime('2016-11-15 00:00:00.992940'), inplace=True)\n",
    "\n",
    "df_trem.plot()\n",
    "df_trem.describe()"
   ]
  },
  {
   "cell_type": "code",
   "execution_count": null,
   "metadata": {},
   "outputs": [],
   "source": [
    "#read in datalogger temperature data\n",
    "url = 'http://fits.geonet.org.nz/observation?siteID=RU001&typeID=t&days=6000&methodID=logic'\n",
    "df = pd.read_csv(url, parse_dates=['date-time'], index_col=['date-time'], usecols = ['date-time', ' t (C)'])\n",
    "\n",
    "#Read in the manual temperatures\n",
    "#outlet, thermometer\n",
    "url = 'http://fits.geonet.org.nz/observation?siteID=RU001&typeID=t&methodID=therm'\n",
    "dfm = pd.read_csv(url, parse_dates=['date-time'], index_col=['date-time'], usecols = ['date-time', ' t (C)'])\n",
    "df = df.append(dfm)\n",
    "\n",
    "#outlet, thermocouple\n",
    "url = 'http://fits.geonet.org.nz/observation?siteID=RU001&typeID=t&methodID=thermcoup'\n",
    "dfm2 = pd.read_csv(url, parse_dates=['date-time'], index_col=['date-time'], usecols = ['date-time', ' t (C)'])\n",
    "df = df.append(dfm2)\n",
    "\n",
    "#centre, thermocouple\n",
    "url = 'http://fits.geonet.org.nz/observation?siteID=RU003&typeID=t&methodID=thermcoup'\n",
    "dfm3 = pd.read_csv(url, parse_dates=['date-time'], index_col=['date-time'], usecols = ['date-time', ' t (C)'])\n",
    "df = df.append(dfm3)\n",
    "\n",
    "#north, thermocouple\n",
    "url = 'http://fits.geonet.org.nz/observation?siteID=RU004&typeID=t&methodID=thermcoup'\n",
    "dfm4 = pd.read_csv(url, parse_dates=['date-time'], index_col=['date-time'], usecols = ['date-time', ' t (C)'])\n",
    "df = df.append(dfm4)\n",
    "\n",
    "#select dates of interest\n",
    "df = df[df.index>='2013-01-01 00:00:00']\n",
    "\n",
    "#resample all to daily value\n",
    "df_temp_day = df.resample('D').mean()\n",
    "\n",
    "#get rid of nans\n",
    "df_temp_day.dropna(inplace=True)\n",
    "\n",
    "#change annoying temp label and drop old column\n",
    "df_temp_day['temp'] = df_temp_day[' t (C)']\n",
    "df_temp_day.drop(' t (C)', axis=1, inplace=True)"
   ]
  },
  {
   "cell_type": "code",
   "execution_count": null,
   "metadata": {},
   "outputs": [],
   "source": [
    "df_temp_day.plot()"
   ]
  },
  {
   "cell_type": "code",
   "execution_count": null,
   "metadata": {},
   "outputs": [],
   "source": [
    "fig = plt.figure(figsize=(12,6))\n",
    "ax = fig.add_subplot(111)\n",
    "ax.plot(df_trem.index, df_trem.tremor, label='tremor')\n",
    "ax.legend()\n",
    "ax1 = ax.twinx()\n",
    "ax.set_xlabel('year')\n",
    "ax1.set_ylabel('temperature $^o$C', color='r')\n",
    "ax.set_ylabel('tremor nm/s', color='b')\n",
    "#ax1.plot(df_temp_day.index, np.gradient(df_temp_day.values.T[:][0]), color='red')\n",
    "ax1.plot(df_temp_day.index, df_temp_day.values, color='red', label='temperature')\n",
    "ax.text('2013-01-01', 950, timestamp)\n",
    "ax1.legend(loc='upper left')\n",
    "\n",
    "#ax1.set_xlim('2018','2019')\n",
    "plt.title('MAVZ tremor and RCL temperature trends')\n",
    "plt.savefig('/opt/html/Ruapehu_tremor_temp_overlay.png')\n"
   ]
  },
  {
   "cell_type": "code",
   "execution_count": null,
   "metadata": {},
   "outputs": [],
   "source": [
    "df_trem_daily = df_trem.reindex(df_temp_day.index, method='nearest').interpolate()\n",
    "df_trem_daily = df_trem_daily[df_trem_daily >= 0]"
   ]
  },
  {
   "cell_type": "code",
   "execution_count": null,
   "metadata": {},
   "outputs": [],
   "source": [
    "from scipy.stats.stats import rankdata\n",
    "from scipy.stats import spearmanr\n",
    "plt.figure(figsize=(10,8))\n",
    "r1 = rankdata(df_trem_daily.tremor)\n",
    "r2 = rankdata(df_temp_day.values)\n",
    "cbar = plt.hexbin(r1, r2, gridsize=25, cmap='plasma')\n",
    "plt.scatter(r1, r2, s=2, c='w')\n",
    "plt.colorbar(cbar, label='hexagon point density')\n",
    "plt.xlabel('tremor rank')\n",
    "plt.ylabel('temperature rank')\n",
    "plt.title('ranked RCL temperature vs ranked tremor')\n",
    "plt.text(0, 2000, timestamp, color='k')\n",
    "plt.savefig('/opt/html/Ruapehu_tremor_temp.png')\n",
    "spearmanr(df_trem_daily.tremor, df_temp_day.values)"
   ]
  },
  {
   "cell_type": "markdown",
   "metadata": {},
   "source": [
    "This plot shows that tremor and temperature are weakly correlated.  Low temp lake tends to have low tremor and high temp lake tends to have high tremor"
   ]
  },
  {
   "cell_type": "code",
   "execution_count": null,
   "metadata": {},
   "outputs": [],
   "source": [
    "#create probability histogram for all tremor values\n",
    "dT = 25\n",
    "Tmin = round(np.min(df_trem.values), -1)\n",
    "Tmax = round(np.max(df_trem.values), 0)\n",
    "bins = np.arange(Tmin, Tmax+dT, dT)\n",
    "df_trem_hist = np.histogram(df_trem, bins = bins, density=True)\n",
    "\n",
    "#plot histogram\n",
    "fig, (ax1, ax2) = plt.subplots(2, 1, figsize=(10,10), sharex=True)\n",
    "ax1.hist(df_trem.tremor, bins = bins, density=True)\n",
    "ax1.set_xlim(0,600)\n",
    "ax1.grid()\n",
    "ax1.set_ylabel('probability')\n",
    "ax1.set_title('MAVZ tremor probability since 2013')\n",
    "ax1.annotate('binwidth = 25 nm/s', xy=(200, 0.011))\n",
    "ax1.text(500, 0.011, timestamp, color='k')\n",
    "\n",
    "ax2.hist(df_trem.tremor, bins = bins, density=True, cumulative=True)\n",
    "ax2.set_xlim(0,600)\n",
    "ax2.grid()\n",
    "ax2.set_yticks(np.arange(0, 1.1, 0.1))\n",
    "ax2.set_xlabel('ground velocity nm/s')\n",
    "ax2.set_ylabel('probability')\n",
    "\n",
    "\n",
    "plt.tight_layout()\n",
    "plt.savefig('/opt/html/Ruapehu_MAVZ_tremor_probability.png', dpi=300)"
   ]
  },
  {
   "cell_type": "code",
   "execution_count": null,
   "metadata": {},
   "outputs": [],
   "source": [
    "RR_trem100 = len(df_trem[df_trem.tremor <=100])/df_trem.count()\n",
    "RR_trem250 = len(df_trem[df_trem.tremor <=250])/df_trem.count()\n",
    "\n",
    "print('tremor < 100 = %.4f' %RR_trem100.values)\n",
    "print('tremor < 250 = %.4f' %RR_trem250.values)\n",
    "\n",
    "\n"
   ]
  },
  {
   "cell_type": "code",
   "execution_count": null,
   "metadata": {},
   "outputs": [],
   "source": []
  }
 ],
 "metadata": {
  "kernelspec": {
   "display_name": "ngmc",
   "language": "python",
   "name": "ngmc"
  },
  "language_info": {
   "codemirror_mode": {
    "name": "ipython",
    "version": 3
   },
   "file_extension": ".py",
   "mimetype": "text/x-python",
   "name": "python",
   "nbconvert_exporter": "python",
   "pygments_lexer": "ipython3",
   "version": "3.6.7"
  }
 },
 "nbformat": 4,
 "nbformat_minor": 4
}
